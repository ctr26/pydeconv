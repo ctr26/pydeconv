{
 "metadata": {
  "language_info": {
   "codemirror_mode": {
    "name": "ipython",
    "version": 3
   },
   "file_extension": ".py",
   "mimetype": "text/x-python",
   "name": "python",
   "nbconvert_exporter": "python",
   "pygments_lexer": "ipython3",
   "version": "3.8.8"
  },
  "orig_nbformat": 2,
  "kernelspec": {
   "name": "python3",
   "display_name": "Python 3.8.8 64-bit ('pydeconv-jtxW77m7-py3.8': poetry)"
  },
  "metadata": {
   "interpreter": {
    "hash": "d75e99a7570930c02d4ed918a8fe09523f82c784f1e47a41827d71e60964118f"
   }
  },
  "interpreter": {
   "hash": "eac6e56218700eff06eeda625e8c089151c5dcc41d79b8ba07102ec139faa11f"
  }
 },
 "nbformat": 4,
 "nbformat_minor": 2,
 "cells": [
  {
   "cell_type": "code",
   "execution_count": 3,
   "source": [
    "import numpy as np\n",
    "import PIL\n",
    "import pims\n",
    "import matplotlib.pyplot as plt\n",
    "from os.path import expanduser\n",
    "import scipy.ndimage as ndimage\n",
    "from skimage.exposure import equalize_adapthist\n",
    "import pydeconv.deconvolve as deconvolve\n",
    "import pydeconv.point_spread_function as psf\n",
    "import pydeconv.utils as utils\n",
    "from os.path import expanduser\n",
    "from skimage import data,color"
   ],
   "outputs": [],
   "metadata": {}
  },
  {
   "cell_type": "code",
   "execution_count": 5,
   "source": [
    "print(\"Bead folder\")\n",
    "\n",
    "\n",
    "image_file = \"~/+projects/2019_jrl/2019_jRL_impute/data/CraigDeconvolutionData/200904_14.02.08_Step_Size_-0.4_Wavelength_DAPI 452-45_FL-15_CUBIC-1_pipetteTipMount_8bit.tif\"\n",
    "image_file = \"~/+projects/2019_jrl/2019_jRL_impute/data/CraigDeconvolutionData/8bit.tif\"\n",
    "image_file = \"~/+projects/2019_jrl/2019_jRL_impute/data/CraigDeconvolutionData/8bit_bf.tif\"\n",
    "\n",
    "# beads_file = \"data/CraigDeconvolutionData/2020-09-04 - calibration/beads/200904_16.50.57_Step_Size_-0.4_Wavelength_DAPI 452-45_500nm_TetBeads/MMStack.ome.tif\"\n",
    "# beads_file = \"~/+projects/2019_jrl/2019_jRl_impute/data/CraigDeconvolutionData/200904_14.02.08_Step_Size_-0.4_Wavelength_DAPI 452-45_FL-15_CUBIC-1_pipetteTipMount/MMStack.ome.tif\"\n",
    "# beads_file = \"~/+projects/2019_jrl/2019_jRl_impute/data/CraigDeconvolutionData/200904_14.02.08_Step_Size_-0.4_Wavelength_DAPI 452-45_FL-15_CUBIC-1_pipetteTipMount/MMStack.ome.tif\"\n",
    "\n",
    "# beads_file = \"~/+projects/2019_jrl/2019_jRl_impute/data/CraigDeconvolutionData/200904_14.02.08_Step_Size_-0.4_Wavelength_DAPI 452-45_FL-15_CUBIC-1_pipetteTipMount/MMStack.ome.tif\"\n",
    "beads_file = \"~/+projects/2019_jrl/2019_jRL_impute/data/CraigDeconvolutionData/2020-09-04 - calibration/beads/200904_16.50.57_Step_Size_-0.4_Wavelength_DAPI 452-45_500nm_TetBeads/MMStack.ome.tif\"\n",
    "print(\"Expanding dir\")\n",
    "image_file = expanduser(image_file)\n",
    "beads_file = expanduser(beads_file)\n",
    "\n",
    "\n",
    "psf_window = (140, 40, 40)  # (z,y,x)\n",
    "psf_window = [60, 20, 20]\n",
    "# %% Lazy load images\n",
    "\n",
    "psf_image = pims.open(beads_file)\n",
    "image = pims.open(image_file)\n",
    "\n",
    "dtype = np.uint8\n",
    "\n",
    "psf_image_scaled = utils.scaleImage(psf_image, dtype)\n",
    "\n",
    "utils.xyz_viewer(image_np)\n",
    "plt.show()"
   ],
   "outputs": [
    {
     "output_type": "stream",
     "name": "stdout",
     "text": [
      "Bead folder\n",
      "Expanding dir\n"
     ]
    },
    {
     "output_type": "error",
     "ename": "NameError",
     "evalue": "name 'xyz_viewer' is not defined",
     "traceback": [
      "\u001b[0;31m---------------------------------------------------------------------------\u001b[0m",
      "\u001b[0;31mNameError\u001b[0m                                 Traceback (most recent call last)",
      "\u001b[0;32m<ipython-input-5-d35116f12d83>\u001b[0m in \u001b[0;36m<module>\u001b[0;34m\u001b[0m\n\u001b[1;32m     28\u001b[0m \u001b[0mpsf_image_scaled\u001b[0m \u001b[0;34m=\u001b[0m \u001b[0mutils\u001b[0m\u001b[0;34m.\u001b[0m\u001b[0mscaleImage\u001b[0m\u001b[0;34m(\u001b[0m\u001b[0mpsf_image\u001b[0m\u001b[0;34m,\u001b[0m \u001b[0mdtype\u001b[0m\u001b[0;34m)\u001b[0m\u001b[0;34m\u001b[0m\u001b[0;34m\u001b[0m\u001b[0m\n\u001b[1;32m     29\u001b[0m \u001b[0;34m\u001b[0m\u001b[0m\n\u001b[0;32m---> 30\u001b[0;31m \u001b[0mxyz_viewer\u001b[0m\u001b[0;34m(\u001b[0m\u001b[0mimage_np\u001b[0m\u001b[0;34m)\u001b[0m\u001b[0;34m\u001b[0m\u001b[0;34m\u001b[0m\u001b[0m\n\u001b[0m\u001b[1;32m     31\u001b[0m \u001b[0mplt\u001b[0m\u001b[0;34m.\u001b[0m\u001b[0mshow\u001b[0m\u001b[0;34m(\u001b[0m\u001b[0;34m)\u001b[0m\u001b[0;34m\u001b[0m\u001b[0;34m\u001b[0m\u001b[0m\n",
      "\u001b[0;31mNameError\u001b[0m: name 'xyz_viewer' is not defined"
     ]
    }
   ],
   "metadata": {}
  },
  {
   "cell_type": "code",
   "execution_count": null,
   "source": [
    "\n",
    "\n",
    "psf_window = (140, 40, 40)  # (z,y,x)\n",
    "psf_window = [60, 20, 20]\n",
    "\n",
    "\n",
    "psf = pims.open(beads_file)\n",
    "image = pims.open(image_file)\n",
    "# %% Shove into memory and scale\n",
    "\n",
    "image_np = np.array(image)\n",
    "\n",
    "# tif_stack = pims.open(beads_file)\n",
    "# image = pims.open(image_file)\n",
    "\n",
    "\n",
    "# psf_image = np.array(tif_stack)\n",
    "\n",
    "dtype = np.uint8"
   ],
   "outputs": [],
   "metadata": {}
  },
  {
   "cell_type": "code",
   "execution_count": null,
   "source": [],
   "outputs": [],
   "metadata": {}
  }
 ]
}