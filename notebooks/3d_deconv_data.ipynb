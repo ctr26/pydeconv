{
 "metadata": {
  "language_info": {
   "codemirror_mode": {
    "name": "ipython",
    "version": 3
   },
   "file_extension": ".py",
   "mimetype": "text/x-python",
   "name": "python",
   "nbconvert_exporter": "python",
   "pygments_lexer": "ipython3",
   "version": "3.8.10"
  },
  "orig_nbformat": 2,
  "kernelspec": {
   "name": "python3810jvsc74a57bd0d75e99a7570930c02d4ed918a8fe09523f82c784f1e47a41827d71e60964118f",
   "display_name": "Python 3.8.10 64-bit ('pydeconv': conda)"
  }
 },
 "nbformat": 4,
 "nbformat_minor": 2,
 "cells": [
  {
   "cell_type": "code",
   "execution_count": 10,
   "metadata": {},
   "outputs": [],
   "source": [
    "import pydeconv\n",
    "import os\n",
    "import pims\n",
    "import numpy as np"
   ]
  },
  {
   "cell_type": "code",
   "execution_count": 11,
   "metadata": {},
   "outputs": [
    {
     "output_type": "stream",
     "name": "stdout",
     "text": [
      "Expanding dir\n"
     ]
    }
   ],
   "source": [
    "image_file = \"~/+projects/2019_jrl/2019_jRL_impute/data/CraigDeconvolutionData/200904_14.02.08_Step_Size_-0.4_Wavelength_DAPI 452-45_FL-15_CUBIC-1_pipetteTipMount_8bit.tif\"\n",
    "image_file = \"~/+projects/2019_jrl/2019_jRL_impute/data/CraigDeconvolutionData/8bit.tif\"\n",
    "image_file = \"~/+projects/2019_jrl/2019_jRL_impute/data/CraigDeconvolutionData/8bit_bf.tif\"\n",
    "\n",
    "beads_file = \"~/+projects/2019_jrl/2019_jRL_impute/data/CraigDeconvolutionData/2020-09-04 - calibration/beads/200904_16.50.57_Step_Size_-0.4_Wavelength_DAPI 452-45_500nm_TetBeads/MMStack.ome.tif\"\n",
    "print(\"Expanding dir\")\n",
    "image_file = os.path.expanduser(image_file)\n",
    "beads_file = os.path.expanduser(beads_file)\n",
    "\n",
    "\n",
    "psf_window = (140, 40, 40)  # (z,y,x)\n",
    "psf_window = [60, 20, 20]"
   ]
  },
  {
   "cell_type": "code",
   "execution_count": 12,
   "metadata": {},
   "outputs": [],
   "source": [
    "psf = pims.open(beads_file)\n",
    "image = pims.open(image_file)\n",
    "image_np = np.array(image)"
   ]
  },
  {
   "cell_type": "code",
   "execution_count": null,
   "metadata": {},
   "outputs": [],
   "source": []
  }
 ]
}